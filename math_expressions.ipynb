{
  "nbformat": 4,
  "nbformat_minor": 0,
  "metadata": {
    "colab": {
      "name": "math_expressions.ipynb",
      "provenance": [],
      "authorship_tag": "ABX9TyP/qJVApahUsNymr15fplve",
      "include_colab_link": true
    },
    "kernelspec": {
      "name": "python3",
      "display_name": "Python 3"
    },
    "language_info": {
      "name": "python"
    }
  },
  "cells": [
    {
      "cell_type": "markdown",
      "metadata": {
        "id": "view-in-github",
        "colab_type": "text"
      },
      "source": [
        "<a href=\"https://colab.research.google.com/github/DerJFK/codewars/blob/main/math_expressions.ipynb\" target=\"_parent\"><img src=\"https://colab.research.google.com/assets/colab-badge.svg\" alt=\"Open In Colab\"/></a>"
      ]
    },
    {
      "cell_type": "code",
      "execution_count": 72,
      "metadata": {
        "id": "ybDlWpKyLVi2"
      },
      "outputs": [],
      "source": [
        "# https://www.codewars.com/kata/52a78825cdfc2cfc87000005\n",
        "# https://github.com/lostleaf/codewars/blob/master/evaluate-mathematical-expression.py\n",
        "\n",
        "import re\n",
        "import numpy as np\n",
        "import pandas as pd\n",
        "import networkx as nx # https://networkx.org/documentation/latest/tutorial.html"
      ]
    },
    {
      "cell_type": "code",
      "source": [
        "ops = {\n",
        "    '*' : lambda x,y: x * y,\n",
        "    '/' : lambda x,y: x / y,\n",
        "    '+' : lambda x,y: x + y,\n",
        "    '-' : lambda x,y: x - y\n",
        "}"
      ],
      "metadata": {
        "id": "xxqTjOv1MsaC"
      },
      "execution_count": 2,
      "outputs": []
    },
    {
      "cell_type": "code",
      "source": [
        "expr = (\n",
        "        (\"1 + 1\", 2),\n",
        "        (\"8/16\", 0.5),\n",
        "        (\"3 -(-1)\", 4),\n",
        "        (\"2 + -2\", 0),\n",
        "        (\"10- 2- -5\", 13),\n",
        "        (\"(((10)))\", 10),\n",
        "        (\"3 * 5\", 15),\n",
        "        (\"-7 * -(6 / 3)\", 14)\n",
        "        )"
      ],
      "metadata": {
        "id": "tU7WM23fLjKK"
      },
      "execution_count": 3,
      "outputs": []
    },
    {
      "cell_type": "code",
      "source": [
        "regex = {\n",
        "    'NB' : re.compile(r\"\\d+(\\.\\d*)?\"),\n",
        "    'NBN' : re.compile(r\"\\- *\\d+(\\.\\d*)?\"),\n",
        "    'PL' : re.compile(r\"\\(\"),\n",
        "    'PR' : re.compile(r\"\\)\"),\n",
        "    'OP' : re.compile(r\"[+\\-*/]\"),\n",
        "    'MULT' : re.compile(r\"\\- *\\d+(\\.\\d*)? *\\* *\\- *\\d+(\\.\\d*)?\"),\n",
        "    'DIV' : re.compile(r\"\\- *\\d+(\\.\\d*)? */ *\\- *\\d+(\\.\\d*)?\")\n",
        "}\n",
        "regex = pd.Series(regex)"
      ],
      "metadata": {
        "id": "wAp2FeTdN3kd"
      },
      "execution_count": 80,
      "outputs": []
    },
    {
      "cell_type": "code",
      "source": [
        "class MathExpr:\n",
        "  def __init__():\n",
        "    pass"
      ],
      "metadata": {
        "id": "caOdXxmPUVRm"
      },
      "execution_count": 5,
      "outputs": []
    },
    {
      "cell_type": "markdown",
      "source": [
        "expr $\\otimes$ expr $\\otimes$ expr $\\otimes$ $\\ldots$\n",
        "\n",
        "expr = (...) oder Zahl\n",
        "\n",
        "$(-7 * -(6 / 3)) + 10 * (3 + 5)$\n",
        "\n",
        "[,$+$]"
      ],
      "metadata": {
        "id": "nZ-pH9iGS7nk"
      }
    },
    {
      "cell_type": "code",
      "source": [
        "e = \"-7 * -(6 / 3) + 10 * ((3 + 5) * (3/(5+1)))\"\n",
        "\n",
        "pL, pLR, i, j = [], [],0, 0\n",
        "lastOp, lastNB = None, None\n",
        "calcOrder = []\n",
        "\n",
        "while True:\n",
        "  res = regex.apply(lambda x: x.search(e[i:]))\n",
        "  idx = res.apply(lambda x: x.start() if x is not None else np.inf).idxmin()\n",
        "  m = res[idx]\n",
        "  if m is None:\n",
        "    break\n",
        "\n",
        "  j = i + m.start()\n",
        "  i += m.end()\n",
        "\n",
        "  if idx == 'PL':\n",
        "    pL.append(j)\n",
        "\n",
        "  if idx == 'PR':\n",
        "    node = (pL.pop(), i, pL[-1] if len(pL) > 0 else None)\n",
        "    pLR.append((node,e[node[0]:node[1]]))\n",
        "  \n",
        "  if idx == 'NB':\n",
        "    lastNB = e[j:i]\n",
        "  \n",
        "  if idx == 'OP':\n",
        "    lastOp = e[j:i]\n",
        " \n",
        "\n",
        "pLR  "
      ],
      "metadata": {
        "colab": {
          "base_uri": "https://localhost:8080/"
        },
        "id": "BdutnZ4DkvWG",
        "outputId": "e80cf628-c6d6-4853-f528-573c20644f6f"
      },
      "execution_count": 74,
      "outputs": [
        {
          "output_type": "execute_result",
          "data": {
            "text/plain": [
              "[((6, 13, None), '(6 / 3)'),\n",
              " ((22, 29, 21), '(3 + 5)'),\n",
              " ((35, 40, 32), '(5+1)'),\n",
              " ((32, 41, 21), '(3/(5+1))'),\n",
              " ((21, 42, None), '((3 + 5) * (3/(5+1)))')]"
            ]
          },
          "metadata": {},
          "execution_count": 74
        }
      ]
    },
    {
      "cell_type": "code",
      "source": [
        "e = \"-7 * -2 / 3 + 6 / 2 + 5 + - 3 * 4\"\n",
        "print(eval(e))\n",
        "\n",
        "cs = []\n",
        "lastOP, lastNB = None, None\n",
        "for i, s in enumerate(e):\n",
        "  if s == '-' and (len(cs) == 0 or cs[-1] in '*/+'):\n",
        "    cs.append(-1)\n",
        "    cs.append('*')\n",
        "    continue\n",
        "\n",
        "  if s in '*/+-':\n",
        "    cs.append(s)\n",
        "  \n",
        "  if re.match(r'\\d',s):\n",
        "    cs.append(int(s))\n",
        "\n",
        "while True:\n",
        "  j = None\n",
        "  for i,s in enumerate(cs):\n",
        "    if type(s) is str and s in '*/':\n",
        "      j = i\n",
        "      break\n",
        "  if j is None:\n",
        "    break\n",
        "  cs = cs[:max(j-1,0)] + [ops[cs[j]](cs[j-1], cs[j+1])] + cs[min(j+2,len(cs)):]\n",
        "  print(cs)\n",
        "\n",
        "sum([x for x in cs if type(x) is not str])"
      ],
      "metadata": {
        "colab": {
          "base_uri": "https://localhost:8080/"
        },
        "id": "4Gk648IeMthS",
        "outputId": "e267b740-27fd-466f-8f71-8c5b9a62c891"
      },
      "execution_count": 128,
      "outputs": [
        {
          "output_type": "stream",
          "name": "stdout",
          "text": [
            "0.6666666666666679\n",
            "[-7, '*', -1, '*', 2, '/', 3, '+', 6, '/', 2, '+', 5, '+', -1, '*', 3, '*', 4]\n",
            "[7, '*', 2, '/', 3, '+', 6, '/', 2, '+', 5, '+', -1, '*', 3, '*', 4]\n",
            "[14, '/', 3, '+', 6, '/', 2, '+', 5, '+', -1, '*', 3, '*', 4]\n",
            "[4.666666666666667, '+', 6, '/', 2, '+', 5, '+', -1, '*', 3, '*', 4]\n",
            "[4.666666666666667, '+', 3.0, '+', 5, '+', -1, '*', 3, '*', 4]\n",
            "[4.666666666666667, '+', 3.0, '+', 5, '+', -3, '*', 4]\n",
            "[4.666666666666667, '+', 3.0, '+', 5, '+', -12]\n"
          ]
        },
        {
          "output_type": "execute_result",
          "data": {
            "text/plain": [
              "0.6666666666666679"
            ]
          },
          "metadata": {},
          "execution_count": 128
        }
      ]
    }
  ]
}