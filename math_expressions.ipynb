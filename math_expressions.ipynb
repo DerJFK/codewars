{
  "nbformat": 4,
  "nbformat_minor": 0,
  "metadata": {
    "colab": {
      "name": "math_expressions.ipynb",
      "provenance": [],
      "authorship_tag": "ABX9TyNzht+lmnjwhgnBsR68ZlXZ",
      "include_colab_link": true
    },
    "kernelspec": {
      "name": "python3",
      "display_name": "Python 3"
    },
    "language_info": {
      "name": "python"
    }
  },
  "cells": [
    {
      "cell_type": "markdown",
      "metadata": {
        "id": "view-in-github",
        "colab_type": "text"
      },
      "source": [
        "<a href=\"https://colab.research.google.com/github/DerJFK/codewars/blob/main/math_expressions.ipynb\" target=\"_parent\"><img src=\"https://colab.research.google.com/assets/colab-badge.svg\" alt=\"Open In Colab\"/></a>"
      ]
    },
    {
      "cell_type": "code",
      "execution_count": 34,
      "metadata": {
        "id": "ybDlWpKyLVi2"
      },
      "outputs": [],
      "source": [
        "# https://www.codewars.com/kata/52a78825cdfc2cfc87000005\n",
        "\n",
        "import re\n",
        "import numpy as np\n",
        "import pandas as pd"
      ]
    },
    {
      "cell_type": "code",
      "source": [
        "ops = {\n",
        "    '*' : lambda x,y: x * y,\n",
        "    '/' : lambda x,y: x / y,\n",
        "    '+' : lambda x,y: x + y,\n",
        "    '-' : lambda x,y: x - y\n",
        "}"
      ],
      "metadata": {
        "id": "xxqTjOv1MsaC"
      },
      "execution_count": 2,
      "outputs": []
    },
    {
      "cell_type": "code",
      "source": [
        "expr = (\n",
        "        (\"1 + 1\", 2),\n",
        "        (\"8/16\", 0.5),\n",
        "        (\"3 -(-1)\", 4),\n",
        "        (\"2 + -2\", 0),\n",
        "        (\"10- 2- -5\", 13),\n",
        "        (\"(((10)))\", 10),\n",
        "        (\"3 * 5\", 15),\n",
        "        (\"-7 * -(6 / 3)\", 14)\n",
        "        )"
      ],
      "metadata": {
        "id": "tU7WM23fLjKK"
      },
      "execution_count": 3,
      "outputs": []
    },
    {
      "cell_type": "code",
      "source": [
        "regex = {\n",
        "    'NB' : re.compile(r\"\\d+(\\.\\d*)?\"),\n",
        "    'PL' : re.compile(r\"\\(\"),\n",
        "    'PR' : re.compile(r\"\\)\"),\n",
        "    'OP' : re.compile(r\"[+\\-*/]\")\n",
        "}\n",
        "regex = pd.Series(regex)"
      ],
      "metadata": {
        "id": "wAp2FeTdN3kd"
      },
      "execution_count": 48,
      "outputs": []
    },
    {
      "cell_type": "code",
      "source": [
        "class MathExpr:\n",
        "  def __init__():\n",
        "    pass"
      ],
      "metadata": {
        "id": "caOdXxmPUVRm"
      },
      "execution_count": 5,
      "outputs": []
    },
    {
      "cell_type": "markdown",
      "source": [
        "expr $\\otimes$ expr $\\otimes$ expr $\\otimes$ $\\ldots$\n",
        "\n",
        "expr = (...) oder Zahl"
      ],
      "metadata": {
        "id": "nZ-pH9iGS7nk"
      }
    },
    {
      "cell_type": "code",
      "source": [
        "e = \"(-7 * -(6 / 3)) + 10 * (3 + 5)\"\n",
        "\n",
        "pL, pLR, i, j = [], [], 0, 0\n",
        "while True:\n",
        "  res = regex.apply(lambda x: x.search(e[i:]))\n",
        "  idx = res.apply(lambda x: x.start() if x is not None else np.inf).idxmin()\n",
        "  m = res[idx]\n",
        "  if m is None:\n",
        "    break\n",
        "  j = i + m.start()\n",
        "  i += m.end()\n",
        "  if idx == 'PL':\n",
        "    pL.append(j)\n",
        "    continue\n",
        "  if idx == 'PR':\n",
        "    pLR.append((pL.pop(), i))\n",
        "    continue\n",
        "\n",
        "pLR  "
      ],
      "metadata": {
        "id": "BdutnZ4DkvWG",
        "outputId": "f1365470-0f4c-43b2-874d-dac7d2ac66d1",
        "colab": {
          "base_uri": "https://localhost:8080/"
        }
      },
      "execution_count": 57,
      "outputs": [
        {
          "output_type": "execute_result",
          "data": {
            "text/plain": [
              "[(7, 14), (0, 15), (23, 30)]"
            ]
          },
          "metadata": {},
          "execution_count": 57
        }
      ]
    },
    {
      "cell_type": "code",
      "source": [
        "e = \"(-7 * -(6 / 3)) + 10 * (3 + 5)\"\n",
        "\n"
      ],
      "metadata": {
        "id": "4Gk648IeMthS",
        "outputId": "a25ebc00-33c5-4971-fae8-fc8c33283d37",
        "colab": {
          "base_uri": "https://localhost:8080/"
        }
      },
      "execution_count": 51,
      "outputs": [
        {
          "output_type": "execute_result",
          "data": {
            "text/plain": [
              "<re.Match object; span=(0, 1), match='('>"
            ]
          },
          "metadata": {},
          "execution_count": 51
        }
      ]
    }
  ]
}