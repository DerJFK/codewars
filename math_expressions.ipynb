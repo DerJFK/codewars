{
  "nbformat": 4,
  "nbformat_minor": 0,
  "metadata": {
    "colab": {
      "name": "math_expressions.ipynb",
      "provenance": [],
      "authorship_tag": "ABX9TyMoOh25YoTF5UlY5P5L2nRm",
      "include_colab_link": true
    },
    "kernelspec": {
      "name": "python3",
      "display_name": "Python 3"
    },
    "language_info": {
      "name": "python"
    }
  },
  "cells": [
    {
      "cell_type": "markdown",
      "metadata": {
        "id": "view-in-github",
        "colab_type": "text"
      },
      "source": [
        "<a href=\"https://colab.research.google.com/github/DerJFK/codewars/blob/main/math_expressions.ipynb\" target=\"_parent\"><img src=\"https://colab.research.google.com/assets/colab-badge.svg\" alt=\"Open In Colab\"/></a>"
      ]
    },
    {
      "cell_type": "code",
      "execution_count": 1,
      "metadata": {
        "id": "ybDlWpKyLVi2"
      },
      "outputs": [],
      "source": [
        "# https://www.codewars.com/kata/52a78825cdfc2cfc87000005\n",
        "# https://github.com/lostleaf/codewars/blob/master/evaluate-mathematical-expression.py\n",
        "\n",
        "import re\n",
        "import numpy as np\n",
        "import pandas as pd\n",
        "import networkx as nx # https://networkx.org/documentation/latest/tutorial.html"
      ]
    },
    {
      "cell_type": "code",
      "source": [
        "ops = {\n",
        "    '*' : lambda x,y: x * y,\n",
        "    '/' : lambda x,y: x / y,\n",
        "    '+' : lambda x,y: x + y,\n",
        "    '-' : lambda x,y: x - y\n",
        "}"
      ],
      "metadata": {
        "id": "xxqTjOv1MsaC"
      },
      "execution_count": 2,
      "outputs": []
    },
    {
      "cell_type": "code",
      "source": [
        "expr = (\n",
        "        (\"1 + 1\", 2),\n",
        "        (\"8/16\", 0.5),\n",
        "        (\"3 -(-1)\", 4),\n",
        "        (\"2 + -2\", 0),\n",
        "        (\"10- 2- -5\", 13),\n",
        "        (\"(((10)))\", 10),\n",
        "        (\"3 * 5\", 15),\n",
        "        (\"-7 * -(6 / 3)\", 14)\n",
        "        )"
      ],
      "metadata": {
        "id": "tU7WM23fLjKK"
      },
      "execution_count": 3,
      "outputs": []
    },
    {
      "cell_type": "code",
      "source": [
        "regex = {\n",
        "    'NB' : re.compile(r\"\\d+(\\.\\d*)?\"),\n",
        "    'PL' : re.compile(r\"\\(\"),\n",
        "    'PR' : re.compile(r\"\\)\"),\n",
        "    'OP' : re.compile(r\"[+\\-*/]\")\n",
        "}\n",
        "regex = pd.Series(regex)\n",
        "\n",
        "def nextToken(expr):\n",
        "  res = regex.apply(lambda x: x.search(expr))\n",
        "  idx = res.apply(lambda x: x.start() if x is not None else np.inf).idxmin()\n",
        "  return res[idx], idx"
      ],
      "metadata": {
        "id": "wAp2FeTdN3kd"
      },
      "execution_count": 4,
      "outputs": []
    },
    {
      "cell_type": "code",
      "source": [
        "class BaseExpr:\n",
        "  def __init__(self, expr, start, end, leftExpr=None, rightExpr=None):\n",
        "    self.left = leftExpr\n",
        "    self.right = rightExpr\n",
        "    self.start = start\n",
        "    self.end = end\n",
        "    self.expr = expr\n",
        "\n",
        "  def __str__(self):\n",
        "    return self.expr[self.start:self.end]\n",
        "\n",
        "  def merge(self):\n",
        "    return False\n",
        "\n",
        "class NBExpr(BaseExpr):\n",
        "  def __init__(self, expr, start, end, leftExpr=None, rightExpr=None):\n",
        "    super().__init__(expr, start, end, leftExpr, rightExpr)\n",
        "    self.z = float(self.expr[self.start:self.end])\n",
        "\n",
        "class PExpr(BaseExpr):\n",
        "  pass\n",
        "  \n",
        "class MultDivExpr(BaseExpr):\n",
        "  pass\n",
        "\n",
        "class AddSubExpr(BaseExpr):\n",
        "  \n",
        "  def merge(self):\n",
        "    if self.right is not None \\\n",
        "      and self.left is not None \\\n",
        "      and (type(self.left) is AddSubExpr or type(self.left) is PExpr) \\\n",
        "      and type(self.right) is NBExpr:\n",
        "\n",
        "      print(self.expr[self.start:self.right.end])\n",
        "\n",
        "      self.right.z = float(self.expr[self.start:self.right.end])\n",
        "      self.left.right = self.right\n",
        "      self.right.start = self.start\n",
        "\n",
        "      return True\n",
        "    \n",
        "    if self.left is None \\\n",
        "      and self.right is not None \\\n",
        "      and type(self.right) is NBExpr:\n",
        "\n",
        "      print(self.expr[self.start:self.right.end])\n",
        "      self.right.z = float(self.expr[self.start:self.right.end])\n",
        "      self.right.start = self.start\n",
        "      self.right.left = None\n",
        "\n",
        "      return True\n",
        "\n",
        "    return False\n",
        "\n",
        "\n",
        "nodeCLS = {\n",
        "    'NB' : NBExpr,\n",
        "    'PL' : PExpr,\n",
        "    'PR' : PExpr,\n",
        "    '*' : MultDivExpr,\n",
        "    '/' : MultDivExpr,\n",
        "    '+': AddSubExpr,\n",
        "    '-' : AddSubExpr\n",
        "}\n",
        "\n",
        "def appendNode(node, nextNode):\n",
        "  if node is None:\n",
        "    return nextNode\n",
        "  else:\n",
        "    node.right = nextNode\n",
        "    nextNode.left = node\n",
        "    return nextNode\n",
        "\n",
        "def iterNodes(node):\n",
        "  n = node\n",
        "  while True:\n",
        "    if n is None:\n",
        "      break\n",
        "    yield n\n",
        "    n = n.right\n"
      ],
      "metadata": {
        "id": "caOdXxmPUVRm"
      },
      "execution_count": 5,
      "outputs": []
    },
    {
      "cell_type": "code",
      "source": [
        "e = '-2 * (3 + -5)'\n",
        "node = None\n",
        "start = end = 0\n",
        "while True:\n",
        "  m, key = nextToken(e[start:])\n",
        "  if m is None: break\n",
        "\n",
        "  end = start + m.end()\n",
        "  start = start + m.start()\n",
        "\n",
        "  if key == 'OP':\n",
        "    op = e[start:end]\n",
        "    node = appendNode(node, nodeCLS[op](e, start, end))\n",
        "  else:\n",
        "    node = appendNode(node, nodeCLS[key](e, start, end))\n",
        "  start = end\n",
        "\n",
        "endNode = node\n",
        "while node.left is not None:\n",
        "  node = node.left\n",
        "startNode = node"
      ],
      "metadata": {
        "id": "BGbDRXwlqcxR"
      },
      "execution_count": 6,
      "outputs": []
    },
    {
      "cell_type": "code",
      "source": [
        "def reduceSign(expr):\n",
        "\n",
        "  if len(expr) > 1:\n",
        "    x, y = expr[:2]\n",
        "    if x == '-' and type(y) is float:\n",
        "\n",
        "      return [-1 * y] + expr[2:] \n",
        "\n",
        "  i = 2\n",
        "  while i < len(expr):\n",
        "    \n",
        "    x, y, z = expr[i-2:i+1]\n",
        "    if (x == '+' or x == '-' or x == '(') \\\n",
        "      and y == '-' and type(z) is float:\n",
        "\n",
        "      return expr[:i-1] + [-1 * z] + expr[i+1:] \n",
        "\n",
        "    i += 1\n",
        "  \n",
        "  return expr\n",
        "\n",
        "def reduceMultDiv(expr):\n",
        "  i = 3\n",
        "  while i < len(expr):\n",
        "    x,op,y = expr[i-3:i]\n",
        "    if type(x) is float \\\n",
        "      and (op == '*' or op=='/') \\\n",
        "      and type(y) is float:\n",
        "\n",
        "      print(x,op,y)\n",
        "      return expr[:i-3] + [ops[op](x,y)] + expr[i:]\n",
        "    i += 1\n",
        "\n",
        "  return expr\n"
      ],
      "metadata": {
        "id": "eCtt7UWiIr1A"
      },
      "execution_count": 7,
      "outputs": []
    },
    {
      "cell_type": "code",
      "source": [
        "e = \"-7 * -(6 / 3) + 10 * ((3 + -5) * (3/(5+1)))\"\n",
        "\n",
        "start = end = 0\n",
        "i, j = 0, 0\n",
        "expr = []\n",
        "\n",
        "while True:\n",
        "  m, key = nextToken(e[start:])\n",
        "  if m is None: break\n",
        "\n",
        "  end = start + m.end()\n",
        "  start = start + m.start()\n",
        "  \n",
        "  if key == 'NB':\n",
        "    expr.append(float(e[start:end]))\n",
        "  else:\n",
        "    expr.append(e[start:end])\n",
        "\n",
        "  start = end\n",
        "\n",
        "\n",
        "m, n = 0, 1\n",
        "while m < n:\n",
        "  n = len(expr)\n",
        "  expr = reduceSign(expr)\n",
        "  m = len(expr)\n",
        "\n",
        "m, n = 0, 1\n",
        "while m < n:\n",
        "  n = len(expr)\n",
        "  expr = reduceMultDiv(expr)\n",
        "  m = len(expr)\n",
        "\n",
        "expr\n",
        "\n"
      ],
      "metadata": {
        "colab": {
          "base_uri": "https://localhost:8080/"
        },
        "id": "BdutnZ4DkvWG",
        "outputId": "a7d9c39f-2b64-4cb5-86a4-1ed8798655e1"
      },
      "execution_count": 8,
      "outputs": [
        {
          "output_type": "stream",
          "name": "stdout",
          "text": [
            "6.0 / 3.0\n"
          ]
        },
        {
          "output_type": "execute_result",
          "data": {
            "text/plain": [
              "[-7.0,\n",
              " '*',\n",
              " '-',\n",
              " '(',\n",
              " 2.0,\n",
              " ')',\n",
              " '+',\n",
              " 10.0,\n",
              " '*',\n",
              " '(',\n",
              " '(',\n",
              " 3.0,\n",
              " '+',\n",
              " -5.0,\n",
              " ')',\n",
              " '*',\n",
              " '(',\n",
              " 3.0,\n",
              " '/',\n",
              " '(',\n",
              " 5.0,\n",
              " '+',\n",
              " 1.0,\n",
              " ')',\n",
              " ')',\n",
              " ')']"
            ]
          },
          "metadata": {},
          "execution_count": 8
        }
      ]
    }
  ]
}